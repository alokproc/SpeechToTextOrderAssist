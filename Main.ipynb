{
 "cells": [
  {
   "cell_type": "code",
   "execution_count": 1,
   "metadata": {},
   "outputs": [],
   "source": [
    "# !pip install --upgrade google-cloud-speech"
   ]
  },
  {
   "cell_type": "code",
   "execution_count": 3,
   "metadata": {},
   "outputs": [],
   "source": [
    "# !pip install rasa_nlu"
   ]
  },
  {
   "cell_type": "code",
   "execution_count": 8,
   "metadata": {},
   "outputs": [],
   "source": [
    "# !pip install wit"
   ]
  },
  {
   "cell_type": "code",
   "execution_count": 70,
   "metadata": {},
   "outputs": [
    {
     "name": "stdout",
     "output_type": "stream",
     "text": [
      "Collecting google.cloud\n",
      "  Using cached https://files.pythonhosted.org/packages/ba/b1/7c54d1950e7808df06642274e677dbcedba57f75307adf2e5ad8d39e5e0e/google_cloud-0.34.0-py2.py3-none-any.whl\n",
      "Installing collected packages: google.cloud\n",
      "Successfully installed google.cloud\n"
     ]
    }
   ],
   "source": [
    "!pip install --upgrade google.cloud"
   ]
  },
  {
   "cell_type": "code",
   "execution_count": 60,
   "metadata": {},
   "outputs": [
    {
     "name": "stdout",
     "output_type": "stream",
     "text": [
      "Collecting setuptools\n",
      "  Downloading https://files.pythonhosted.org/packages/6a/9a/50fadfd53ec909e4399b67c74cc7f4e883488035cfcdb90b685758fa8b34/setuptools-41.4.0-py2.py3-none-any.whl (580kB)\n",
      "Collecting pip\n",
      "  Downloading https://files.pythonhosted.org/packages/00/b6/9cfa56b4081ad13874b0c6f96af8ce16cfbc1cb06bedf8e9164ce5551ec1/pip-19.3.1-py2.py3-none-any.whl (1.4MB)\n",
      "Installing collected packages: setuptools, pip\n",
      "  Found existing installation: setuptools 40.6.3\n",
      "    Uninstalling setuptools-40.6.3:\n",
      "      Successfully uninstalled setuptools-40.6.3\n",
      "  Found existing installation: pip 18.1\n",
      "    Uninstalling pip-18.1:\n",
      "      Successfully uninstalled pip-18.1\n"
     ]
    },
    {
     "name": "stderr",
     "output_type": "stream",
     "text": [
      "Could not install packages due to an EnvironmentError: [WinError 5] Access is denied: 'C:\\\\Users\\\\risha\\\\AppData\\\\Local\\\\Temp\\\\pip-uninstall-f88009si\\\\users\\\\risha\\\\anaconda3\\\\scripts\\\\pip.exe'\n",
      "Consider using the `--user` option or check the permissions.\n",
      "\n"
     ]
    }
   ],
   "source": [
    "!pip install --upgrade setuptools pip"
   ]
  },
  {
   "cell_type": "markdown",
   "metadata": {},
   "source": [
    "# Libraries"
   ]
  },
  {
   "cell_type": "code",
   "execution_count": 16,
   "metadata": {},
   "outputs": [],
   "source": [
    "import pandas as pd\n",
    "import numpy as np\n",
    "import random\n",
    "import matplotlib.pyplot as plt\n",
    "import math\n",
    "import seaborn as sns\n",
    "from sklearn.utils import shuffle\n",
    "import sklearn.linear_model as Lm\n",
    "from sklearn.linear_model import LinearRegression as Lr\n",
    "from sklearn.metrics import mean_squared_error\n",
    "from sklearn.linear_model import LogisticRegression\n",
    "from sklearn.linear_model import Perceptron\n",
    "import requests\n",
    "import io\n",
    "import os\n",
    "from google.cloud import speech\n",
    "from google.cloud.speech import enums\n",
    "from google.cloud.speech import types\n",
    "from rasa_nlu.model import Metadata, Interpreter\n",
    "from wit import Wit\n",
    "import json"
   ]
  },
  {
   "cell_type": "code",
   "execution_count": 45,
   "metadata": {},
   "outputs": [],
   "source": []
  },
  {
   "cell_type": "code",
   "execution_count": 46,
   "metadata": {},
   "outputs": [],
   "source": [
    "def getTextFromAudio(filename):\n",
    "    client = speech.SpeechClient()\n",
    "\n",
    "    file_name = os.path.join('Audio Files','Demo_4.flac')\n",
    "\n",
    "    with io.open(file_name, 'rb') as audio_file:\n",
    "        content = audio_file.read()\n",
    "        audio = types.RecognitionAudio(content=content)\n",
    "\n",
    "    config = types.RecognitionConfig(\n",
    "        encoding=enums.RecognitionConfig.AudioEncoding.FLAC,\n",
    "        sample_rate_hertz=16000,\n",
    "        language_code='en-US')\n",
    "\n",
    "    response = client.recognize(config, audio)\n",
    "\n",
    "    for result in response.results:\n",
    "        return result.alternatives[0].transcript"
   ]
  },
  {
   "cell_type": "code",
   "execution_count": 47,
   "metadata": {},
   "outputs": [
    {
     "data": {
      "text/plain": [
       "'hi I would like to order one burger and some fries'"
      ]
     },
     "execution_count": 47,
     "metadata": {},
     "output_type": "execute_result"
    }
   ],
   "source": [
    "getTextFromAudio(\"Demo_4.flac\")"
   ]
  },
  {
   "cell_type": "code",
   "execution_count": 44,
   "metadata": {},
   "outputs": [
    {
     "name": "stdout",
     "output_type": "stream",
     "text": [
      "{\n",
      "  \"_text\": \"Can i order five Burger and a fries\",\n",
      "  \"entities\": {\n",
      "    \"item\": [\n",
      "      {\n",
      "        \"confidence\": 0.7741024280796,\n",
      "        \"value\": \"fries\",\n",
      "        \"type\": \"value\"\n",
      "      }\n",
      "    ],\n",
      "    \"intent\": [\n",
      "      {\n",
      "        \"confidence\": 0.98362402405517,\n",
      "        \"value\": \"Add\"\n",
      "      }\n",
      "    ]\n",
      "  },\n",
      "  \"msg_id\": \"1j88tGSXpxM23mKB3\"\n",
      "}\n",
      "None\n"
     ]
    }
   ],
   "source": [
    "client = Wit(\"QIPH5735KKLG3SRKLW6ULLPAA3FCYYIS\")\n",
    "resp = client.message('Can i order five Burger and a fries')\n",
    "print(print(json.dumps(resp, indent=2)))\n"
   ]
  },
  {
   "cell_type": "code",
   "execution_count": 51,
   "metadata": {},
   "outputs": [],
   "source": [
    "senten = []\n",
    "senten.append('Can i order five Burger and a fries')\n",
    "senten.append('I would like to order one large pizza and one soda')\n",
    "senten.append('Please remove the burger from my order')\n",
    "senten.append('Can you swap the burge for a cheese pizza')\n",
    "senten.append('I Would like to get a coffee too')"
   ]
  },
  {
   "cell_type": "code",
   "execution_count": null,
   "metadata": {},
   "outputs": [],
   "source": []
  },
  {
   "cell_type": "code",
   "execution_count": 55,
   "metadata": {},
   "outputs": [
    {
     "name": "stdout",
     "output_type": "stream",
     "text": [
      "{\n",
      "  \"_text\": \"Can i order five Burger and a fries\",\n",
      "  \"entities\": {\n",
      "    \"item\": [\n",
      "      {\n",
      "        \"confidence\": 1,\n",
      "        \"value\": \"burger\",\n",
      "        \"type\": \"value\"\n",
      "      },\n",
      "      {\n",
      "        \"confidence\": 1,\n",
      "        \"value\": \"fries\",\n",
      "        \"type\": \"value\"\n",
      "      }\n",
      "    ],\n",
      "    \"intent\": [\n",
      "      {\n",
      "        \"confidence\": 0.97615008349022,\n",
      "        \"value\": \"Add\"\n",
      "      }\n",
      "    ]\n",
      "  },\n",
      "  \"msg_id\": \"1ojGBkybiQ9k0784E\"\n",
      "}\n",
      "None\n",
      "{\n",
      "  \"_text\": \"I would like to order one large pizza and one soda\",\n",
      "  \"entities\": {\n",
      "    \"item\": [\n",
      "      {\n",
      "        \"confidence\": 0.96937750911338,\n",
      "        \"value\": \"cheese pizza\",\n",
      "        \"type\": \"value\"\n",
      "      }\n",
      "    ],\n",
      "    \"intent\": [\n",
      "      {\n",
      "        \"confidence\": 0.98781046493033,\n",
      "        \"value\": \"Add\"\n",
      "      }\n",
      "    ]\n",
      "  },\n",
      "  \"msg_id\": \"1IAWRHTX3jT4v7Jb5\"\n",
      "}\n",
      "None\n",
      "{\n",
      "  \"_text\": \"Please remove the burger from my order\",\n",
      "  \"entities\": {\n",
      "    \"item\": [\n",
      "      {\n",
      "        \"confidence\": 1,\n",
      "        \"value\": \"burger\",\n",
      "        \"type\": \"value\"\n",
      "      }\n",
      "    ],\n",
      "    \"intent\": [\n",
      "      {\n",
      "        \"confidence\": 0.99488646740725,\n",
      "        \"value\": \"Delete\"\n",
      "      }\n",
      "    ]\n",
      "  },\n",
      "  \"msg_id\": \"1l79KjTxpn25j3xBp\"\n",
      "}\n",
      "None\n",
      "{\n",
      "  \"_text\": \"Can you swap the burge for a cheese pizza\",\n",
      "  \"entities\": {\n",
      "    \"item\": [\n",
      "      {\n",
      "        \"confidence\": 0.97129921301334,\n",
      "        \"value\": \"cheese pizza\",\n",
      "        \"type\": \"value\"\n",
      "      }\n",
      "    ],\n",
      "    \"intent\": [\n",
      "      {\n",
      "        \"confidence\": 0.98759140792183,\n",
      "        \"value\": \"Update\"\n",
      "      }\n",
      "    ]\n",
      "  },\n",
      "  \"msg_id\": \"12ET27kVhPU3ClDkZ\"\n",
      "}\n",
      "None\n",
      "{\n",
      "  \"_text\": \"I Would like to get a coffee too\",\n",
      "  \"entities\": {\n",
      "    \"item\": [\n",
      "      {\n",
      "        \"confidence\": 0.83217626341952,\n",
      "        \"value\": \"coffee\",\n",
      "        \"type\": \"value\"\n",
      "      }\n",
      "    ],\n",
      "    \"intent\": [\n",
      "      {\n",
      "        \"confidence\": 0.972997265202,\n",
      "        \"value\": \"Add\"\n",
      "      }\n",
      "    ]\n",
      "  },\n",
      "  \"msg_id\": \"17AJAe7ViPnji10nK\"\n",
      "}\n",
      "None\n"
     ]
    }
   ],
   "source": [
    "WitClient = Wit(\"QIPH5735KKLG3SRKLW6ULLPAA3FCYYIS\")\n",
    "for i in senten:\n",
    "    resp = WitClient.message(i)\n",
    "    print(print(json.dumps(resp, indent=2)))\n"
   ]
  },
  {
   "cell_type": "code",
   "execution_count": null,
   "metadata": {},
   "outputs": [],
   "source": []
  },
  {
   "cell_type": "code",
   "execution_count": 71,
   "metadata": {},
   "outputs": [
    {
     "ename": "ImportError",
     "evalue": "cannot import name 'language' from 'google.cloud' (unknown location)",
     "output_type": "error",
     "traceback": [
      "\u001b[1;31m---------------------------------------------------------------------------\u001b[0m",
      "\u001b[1;31mImportError\u001b[0m                               Traceback (most recent call last)",
      "\u001b[1;32m<ipython-input-71-c22ac635f054>\u001b[0m in \u001b[0;36m<module>\u001b[1;34m\u001b[0m\n\u001b[0;32m      1\u001b[0m \u001b[1;31m# Imports the Google Cloud client library\u001b[0m\u001b[1;33m\u001b[0m\u001b[1;33m\u001b[0m\u001b[1;33m\u001b[0m\u001b[0m\n\u001b[1;32m----> 2\u001b[1;33m \u001b[1;32mfrom\u001b[0m \u001b[0mgoogle\u001b[0m\u001b[1;33m.\u001b[0m\u001b[0mcloud\u001b[0m \u001b[1;32mimport\u001b[0m \u001b[0mlanguage\u001b[0m\u001b[1;33m\u001b[0m\u001b[1;33m\u001b[0m\u001b[0m\n\u001b[0m\u001b[0;32m      3\u001b[0m \u001b[1;32mfrom\u001b[0m \u001b[0mgoogle\u001b[0m\u001b[1;33m.\u001b[0m\u001b[0mcloud\u001b[0m\u001b[1;33m.\u001b[0m\u001b[0mlanguage\u001b[0m \u001b[1;32mimport\u001b[0m \u001b[0menums\u001b[0m\u001b[1;33m\u001b[0m\u001b[1;33m\u001b[0m\u001b[0m\n\u001b[0;32m      4\u001b[0m \u001b[1;32mfrom\u001b[0m \u001b[0mgoogle\u001b[0m\u001b[1;33m.\u001b[0m\u001b[0mcloud\u001b[0m\u001b[1;33m.\u001b[0m\u001b[0mlanguage\u001b[0m \u001b[1;32mimport\u001b[0m \u001b[0mtypes\u001b[0m\u001b[1;33m\u001b[0m\u001b[1;33m\u001b[0m\u001b[0m\n\u001b[0;32m      5\u001b[0m \u001b[1;33m\u001b[0m\u001b[0m\n",
      "\u001b[1;31mImportError\u001b[0m: cannot import name 'language' from 'google.cloud' (unknown location)"
     ]
    }
   ],
   "source": [
    "# Imports the Google Cloud client library\n",
    "from google.cloud import language\n",
    "from google.cloud.language import enums\n",
    "from google.cloud.language import types\n",
    "\n",
    "# Instantiates a client\n",
    "client = language.LanguageServiceClient()\n",
    "\n",
    "# The text to analyze\n",
    "text = u'Hello, world!'\n",
    "document = types.Document(\n",
    "    content=text,\n",
    "    type=enums.Document.Type.PLAIN_TEXT)\n",
    "\n",
    "# Detects the sentiment of the text\n",
    "sentiment = client.analyze_sentiment(document=document).document_sentiment\n",
    "\n",
    "print('Text: {}'.format(text))\n",
    "print('Sentiment: {}, {}'.format(sentiment.score, sentiment.magnitude))"
   ]
  },
  {
   "cell_type": "code",
   "execution_count": 23,
   "metadata": {},
   "outputs": [
    {
     "name": "stdout",
     "output_type": "stream",
     "text": [
      "Credendtials from environ: C:\\Users\\risha\\Downloads\\NLP - Food-96ceb070c2a2.json\n"
     ]
    }
   ],
   "source": [
    "print('Credendtials from environ: {}'.format(os.environ.get('GOOGLE_APPLICATION_CREDENTIALS')))"
   ]
  },
  {
   "cell_type": "code",
   "execution_count": 5,
   "metadata": {},
   "outputs": [
    {
     "name": "stderr",
     "output_type": "stream",
     "text": [
      "'cat' is not recognized as an internal or external command,\n",
      "operable program or batch file.\n"
     ]
    }
   ],
   "source": [
    "!cat rasa_dataset.json"
   ]
  }
 ],
 "metadata": {
  "kernelspec": {
   "display_name": "Python 3",
   "language": "python",
   "name": "python3"
  },
  "language_info": {
   "codemirror_mode": {
    "name": "ipython",
    "version": 3
   },
   "file_extension": ".py",
   "mimetype": "text/x-python",
   "name": "python",
   "nbconvert_exporter": "python",
   "pygments_lexer": "ipython3",
   "version": "3.7.1"
  }
 },
 "nbformat": 4,
 "nbformat_minor": 2
}
