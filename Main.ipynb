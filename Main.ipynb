{
 "cells": [
  {
   "cell_type": "code",
   "execution_count": 1,
   "metadata": {},
   "outputs": [],
   "source": [
    "# !pip install --upgrade google-cloud-speech"
   ]
  },
  {
   "cell_type": "code",
   "execution_count": 3,
   "metadata": {},
   "outputs": [],
   "source": [
    "# !pip install rasa_nlu"
   ]
  },
  {
   "cell_type": "code",
   "execution_count": 8,
   "metadata": {},
   "outputs": [],
   "source": [
    "# !pip install wit"
   ]
  },
  {
   "cell_type": "code",
   "execution_count": 70,
   "metadata": {},
   "outputs": [
    {
     "name": "stdout",
     "output_type": "stream",
     "text": [
      "Collecting google.cloud\n",
      "  Using cached https://files.pythonhosted.org/packages/ba/b1/7c54d1950e7808df06642274e677dbcedba57f75307adf2e5ad8d39e5e0e/google_cloud-0.34.0-py2.py3-none-any.whl\n",
      "Installing collected packages: google.cloud\n",
      "Successfully installed google.cloud\n"
     ]
    }
   ],
   "source": [
    "!pip install --upgrade google.cloud"
   ]
  },
  {
   "cell_type": "code",
   "execution_count": 30,
   "metadata": {},
   "outputs": [
    {
     "name": "stdout",
     "output_type": "stream",
     "text": [
      "Collecting google-cloud-language\n",
      "  Downloading https://files.pythonhosted.org/packages/ba/b8/965a97ba60287910d342623da1da615254bded3e0965728cf7fc6339b7c8/google_cloud_language-1.3.0-py2.py3-none-any.whl (83kB)\n",
      "Requirement already satisfied, skipping upgrade: google-api-core[grpc]<2.0.0dev,>=1.14.0 in c:\\users\\risha\\anaconda3\\lib\\site-packages (from google-cloud-language) (1.14.3)\n",
      "Requirement already satisfied, skipping upgrade: pytz in c:\\users\\risha\\anaconda3\\lib\\site-packages (from google-api-core[grpc]<2.0.0dev,>=1.14.0->google-cloud-language) (2018.7)\n",
      "Requirement already satisfied, skipping upgrade: setuptools>=34.0.0 in c:\\users\\risha\\anaconda3\\lib\\site-packages (from google-api-core[grpc]<2.0.0dev,>=1.14.0->google-cloud-language) (41.4.0)\n",
      "Requirement already satisfied, skipping upgrade: protobuf>=3.4.0 in c:\\users\\risha\\anaconda3\\lib\\site-packages (from google-api-core[grpc]<2.0.0dev,>=1.14.0->google-cloud-language) (3.10.0)\n",
      "Requirement already satisfied, skipping upgrade: requests<3.0.0dev,>=2.18.0 in c:\\users\\risha\\anaconda3\\lib\\site-packages (from google-api-core[grpc]<2.0.0dev,>=1.14.0->google-cloud-language) (2.21.0)\n",
      "Requirement already satisfied, skipping upgrade: six>=1.10.0 in c:\\users\\risha\\anaconda3\\lib\\site-packages (from google-api-core[grpc]<2.0.0dev,>=1.14.0->google-cloud-language) (1.12.0)\n",
      "Requirement already satisfied, skipping upgrade: google-auth<2.0dev,>=0.4.0 in c:\\users\\risha\\anaconda3\\lib\\site-packages (from google-api-core[grpc]<2.0.0dev,>=1.14.0->google-cloud-language) (1.6.3)\n",
      "Requirement already satisfied, skipping upgrade: googleapis-common-protos<2.0dev,>=1.6.0 in c:\\users\\risha\\anaconda3\\lib\\site-packages (from google-api-core[grpc]<2.0.0dev,>=1.14.0->google-cloud-language) (1.6.0)\n",
      "Requirement already satisfied, skipping upgrade: grpcio<2.0dev,>=1.8.2; extra == \"grpc\" in c:\\users\\risha\\anaconda3\\lib\\site-packages (from google-api-core[grpc]<2.0.0dev,>=1.14.0->google-cloud-language) (1.24.1)\n",
      "Requirement already satisfied, skipping upgrade: certifi>=2017.4.17 in c:\\users\\risha\\anaconda3\\lib\\site-packages (from requests<3.0.0dev,>=2.18.0->google-api-core[grpc]<2.0.0dev,>=1.14.0->google-cloud-language) (2018.11.29)\n",
      "Requirement already satisfied, skipping upgrade: chardet<3.1.0,>=3.0.2 in c:\\users\\risha\\anaconda3\\lib\\site-packages (from requests<3.0.0dev,>=2.18.0->google-api-core[grpc]<2.0.0dev,>=1.14.0->google-cloud-language) (3.0.4)\n",
      "Requirement already satisfied, skipping upgrade: idna<2.9,>=2.5 in c:\\users\\risha\\anaconda3\\lib\\site-packages (from requests<3.0.0dev,>=2.18.0->google-api-core[grpc]<2.0.0dev,>=1.14.0->google-cloud-language) (2.8)\n",
      "Requirement already satisfied, skipping upgrade: urllib3<1.25,>=1.21.1 in c:\\users\\risha\\anaconda3\\lib\\site-packages (from requests<3.0.0dev,>=2.18.0->google-api-core[grpc]<2.0.0dev,>=1.14.0->google-cloud-language) (1.24.1)\n",
      "Requirement already satisfied, skipping upgrade: rsa>=3.1.4 in c:\\users\\risha\\anaconda3\\lib\\site-packages (from google-auth<2.0dev,>=0.4.0->google-api-core[grpc]<2.0.0dev,>=1.14.0->google-cloud-language) (4.0)\n",
      "Requirement already satisfied, skipping upgrade: pyasn1-modules>=0.2.1 in c:\\users\\risha\\anaconda3\\lib\\site-packages (from google-auth<2.0dev,>=0.4.0->google-api-core[grpc]<2.0.0dev,>=1.14.0->google-cloud-language) (0.2.6)\n",
      "Requirement already satisfied, skipping upgrade: cachetools>=2.0.0 in c:\\users\\risha\\anaconda3\\lib\\site-packages (from google-auth<2.0dev,>=0.4.0->google-api-core[grpc]<2.0.0dev,>=1.14.0->google-cloud-language) (3.1.1)\n",
      "Requirement already satisfied, skipping upgrade: pyasn1>=0.1.3 in c:\\users\\risha\\anaconda3\\lib\\site-packages (from rsa>=3.1.4->google-auth<2.0dev,>=0.4.0->google-api-core[grpc]<2.0.0dev,>=1.14.0->google-cloud-language) (0.4.6)\n",
      "Installing collected packages: google-cloud-language\n",
      "Successfully installed google-cloud-language-1.3.0\n"
     ]
    }
   ],
   "source": [
    "!pip install --upgrade google-cloud-language"
   ]
  },
  {
   "cell_type": "code",
   "execution_count": 60,
   "metadata": {},
   "outputs": [
    {
     "name": "stdout",
     "output_type": "stream",
     "text": [
      "Collecting setuptools\n",
      "  Downloading https://files.pythonhosted.org/packages/6a/9a/50fadfd53ec909e4399b67c74cc7f4e883488035cfcdb90b685758fa8b34/setuptools-41.4.0-py2.py3-none-any.whl (580kB)\n",
      "Collecting pip\n",
      "  Downloading https://files.pythonhosted.org/packages/00/b6/9cfa56b4081ad13874b0c6f96af8ce16cfbc1cb06bedf8e9164ce5551ec1/pip-19.3.1-py2.py3-none-any.whl (1.4MB)\n",
      "Installing collected packages: setuptools, pip\n",
      "  Found existing installation: setuptools 40.6.3\n",
      "    Uninstalling setuptools-40.6.3:\n",
      "      Successfully uninstalled setuptools-40.6.3\n",
      "  Found existing installation: pip 18.1\n",
      "    Uninstalling pip-18.1:\n",
      "      Successfully uninstalled pip-18.1\n"
     ]
    },
    {
     "name": "stderr",
     "output_type": "stream",
     "text": [
      "Could not install packages due to an EnvironmentError: [WinError 5] Access is denied: 'C:\\\\Users\\\\risha\\\\AppData\\\\Local\\\\Temp\\\\pip-uninstall-f88009si\\\\users\\\\risha\\\\anaconda3\\\\scripts\\\\pip.exe'\n",
      "Consider using the `--user` option or check the permissions.\n",
      "\n"
     ]
    }
   ],
   "source": [
    "!pip install --upgrade setuptools pip"
   ]
  },
  {
   "cell_type": "markdown",
   "metadata": {},
   "source": [
    "# Libraries"
   ]
  },
  {
   "cell_type": "code",
   "execution_count": 46,
   "metadata": {},
   "outputs": [],
   "source": [
    "import pandas as pd\n",
    "import numpy as np\n",
    "import random\n",
    "import matplotlib.pyplot as plt\n",
    "import math\n",
    "import seaborn as sns\n",
    "from sklearn.utils import shuffle\n",
    "import sklearn.linear_model as Lm\n",
    "from sklearn.linear_model import LinearRegression as Lr\n",
    "from sklearn.metrics import mean_squared_error\n",
    "from sklearn.linear_model import LogisticRegression\n",
    "from sklearn.linear_model import Perceptron\n",
    "import requests\n",
    "import io\n",
    "import os\n",
    "from google.cloud import speech\n",
    "from google.cloud.speech import enums as enums1\n",
    "from google.cloud.speech import types\n",
    "from rasa_nlu.model import Metadata, Interpreter\n",
    "from wit import Wit\n",
    "import json\n",
    "from google.cloud import language_v1\n",
    "from google.cloud.language_v1 import enums"
   ]
  },
  {
   "cell_type": "code",
   "execution_count": 47,
   "metadata": {},
   "outputs": [
    {
     "data": {
      "text/plain": [
       "'hi I would like to order one burger and some fries'"
      ]
     },
     "execution_count": 47,
     "metadata": {},
     "output_type": "execute_result"
    }
   ],
   "source": [
    "getTextFromAudio(\"Demo_4.flac\")"
   ]
  },
  {
   "cell_type": "code",
   "execution_count": 43,
   "metadata": {},
   "outputs": [],
   "source": [
    "def getTextFromAudio(filename):\n",
    "    client = speech.SpeechClient()\n",
    "\n",
    "    file_name = os.path.join('Audio Files',filename)\n",
    "\n",
    "    with io.open(file_name, 'rb') as audio_file:\n",
    "        content = audio_file.read()\n",
    "        audio = types.RecognitionAudio(content=content)\n",
    "\n",
    "    config = types.RecognitionConfig(\n",
    "        encoding=enums1.RecognitionConfig.AudioEncoding.FLAC,\n",
    "        sample_rate_hertz=16000,\n",
    "        language_code='en-US')\n",
    "\n",
    "    response = client.recognize(config, audio)\n",
    "\n",
    "    for result in response.results:\n",
    "        return result.alternatives[0].transcript"
   ]
  },
  {
   "cell_type": "code",
   "execution_count": 97,
   "metadata": {},
   "outputs": [
    {
     "ename": "TypeError",
     "evalue": "the JSON object must be str, bytes or bytearray, not Entity",
     "output_type": "error",
     "traceback": [
      "\u001b[1;31m---------------------------------------------------------------------------\u001b[0m",
      "\u001b[1;31mTypeError\u001b[0m                                 Traceback (most recent call last)",
      "\u001b[1;32m<ipython-input-97-9fa89782d7ef>\u001b[0m in \u001b[0;36m<module>\u001b[1;34m\u001b[0m\n\u001b[0;32m     16\u001b[0m             \u001b[0mprint\u001b[0m\u001b[1;33m(\u001b[0m\u001b[1;34mu\"{}: {}\"\u001b[0m\u001b[1;33m.\u001b[0m\u001b[0mformat\u001b[0m\u001b[1;33m(\u001b[0m\u001b[0mmetadata_name\u001b[0m\u001b[1;33m,\u001b[0m \u001b[0mmetadata_value\u001b[0m\u001b[1;33m)\u001b[0m\u001b[1;33m)\u001b[0m\u001b[1;33m\u001b[0m\u001b[1;33m\u001b[0m\u001b[0m\n\u001b[0;32m     17\u001b[0m \u001b[1;33m\u001b[0m\u001b[0m\n\u001b[1;32m---> 18\u001b[1;33m \u001b[0manalyze_entities\u001b[0m\u001b[1;33m(\u001b[0m\u001b[1;34m\"Can i order five cheese Burger and 3 fries\"\u001b[0m\u001b[1;33m)\u001b[0m\u001b[1;33m\u001b[0m\u001b[1;33m\u001b[0m\u001b[0m\n\u001b[0m",
      "\u001b[1;32m<ipython-input-97-9fa89782d7ef>\u001b[0m in \u001b[0;36manalyze_entities\u001b[1;34m(text_content)\u001b[0m\n\u001b[0;32m      9\u001b[0m \u001b[1;33m\u001b[0m\u001b[0m\n\u001b[0;32m     10\u001b[0m     \u001b[0mresponse\u001b[0m \u001b[1;33m=\u001b[0m \u001b[0mclient\u001b[0m\u001b[1;33m.\u001b[0m\u001b[0manalyze_entities\u001b[0m\u001b[1;33m(\u001b[0m\u001b[0mdocument\u001b[0m\u001b[1;33m,\u001b[0m \u001b[0mencoding_type\u001b[0m\u001b[1;33m=\u001b[0m\u001b[0mencoding_type\u001b[0m\u001b[1;33m)\u001b[0m\u001b[1;33m\u001b[0m\u001b[1;33m\u001b[0m\u001b[0m\n\u001b[1;32m---> 11\u001b[1;33m     \u001b[0mprint\u001b[0m\u001b[1;33m(\u001b[0m\u001b[0mjson\u001b[0m\u001b[1;33m.\u001b[0m\u001b[0mloads\u001b[0m\u001b[1;33m(\u001b[0m\u001b[0mresponse\u001b[0m\u001b[1;33m.\u001b[0m\u001b[0mentities\u001b[0m\u001b[1;33m[\u001b[0m\u001b[1;36m0\u001b[0m\u001b[1;33m]\u001b[0m\u001b[1;33m)\u001b[0m\u001b[1;33m)\u001b[0m\u001b[1;33m\u001b[0m\u001b[1;33m\u001b[0m\u001b[0m\n\u001b[0m\u001b[0;32m     12\u001b[0m     \u001b[0mprint\u001b[0m\u001b[1;33m(\u001b[0m\u001b[1;34m\"\\n\\n\\n\\n\"\u001b[0m\u001b[1;33m)\u001b[0m\u001b[1;33m\u001b[0m\u001b[1;33m\u001b[0m\u001b[0m\n\u001b[0;32m     13\u001b[0m     \u001b[1;32mfor\u001b[0m \u001b[0mentity\u001b[0m \u001b[1;32min\u001b[0m \u001b[0mresponse\u001b[0m\u001b[1;33m.\u001b[0m\u001b[0mentities\u001b[0m\u001b[1;33m:\u001b[0m\u001b[1;33m\u001b[0m\u001b[1;33m\u001b[0m\u001b[0m\n",
      "\u001b[1;32m~\\Anaconda3\\lib\\json\\__init__.py\u001b[0m in \u001b[0;36mloads\u001b[1;34m(s, encoding, cls, object_hook, parse_float, parse_int, parse_constant, object_pairs_hook, **kw)\u001b[0m\n\u001b[0;32m    339\u001b[0m     \u001b[1;32melse\u001b[0m\u001b[1;33m:\u001b[0m\u001b[1;33m\u001b[0m\u001b[1;33m\u001b[0m\u001b[0m\n\u001b[0;32m    340\u001b[0m         \u001b[1;32mif\u001b[0m \u001b[1;32mnot\u001b[0m \u001b[0misinstance\u001b[0m\u001b[1;33m(\u001b[0m\u001b[0ms\u001b[0m\u001b[1;33m,\u001b[0m \u001b[1;33m(\u001b[0m\u001b[0mbytes\u001b[0m\u001b[1;33m,\u001b[0m \u001b[0mbytearray\u001b[0m\u001b[1;33m)\u001b[0m\u001b[1;33m)\u001b[0m\u001b[1;33m:\u001b[0m\u001b[1;33m\u001b[0m\u001b[1;33m\u001b[0m\u001b[0m\n\u001b[1;32m--> 341\u001b[1;33m             raise TypeError(f'the JSON object must be str, bytes or bytearray, '\n\u001b[0m\u001b[0;32m    342\u001b[0m                             f'not {s.__class__.__name__}')\n\u001b[0;32m    343\u001b[0m         \u001b[0ms\u001b[0m \u001b[1;33m=\u001b[0m \u001b[0ms\u001b[0m\u001b[1;33m.\u001b[0m\u001b[0mdecode\u001b[0m\u001b[1;33m(\u001b[0m\u001b[0mdetect_encoding\u001b[0m\u001b[1;33m(\u001b[0m\u001b[0ms\u001b[0m\u001b[1;33m)\u001b[0m\u001b[1;33m,\u001b[0m \u001b[1;34m'surrogatepass'\u001b[0m\u001b[1;33m)\u001b[0m\u001b[1;33m\u001b[0m\u001b[1;33m\u001b[0m\u001b[0m\n",
      "\u001b[1;31mTypeError\u001b[0m: the JSON object must be str, bytes or bytearray, not Entity"
     ]
    }
   ],
   "source": [
    "def analyze_entities(text_content):\n",
    "    client = language_v1.LanguageServiceClient()\n",
    "    type_ = enums.Document.Type.PLAIN_TEXT\n",
    "    language = \"en\"\n",
    "    document = {\"content\": text_content, \"type\": type_, \"language\": language}\n",
    "\n",
    "    # Available values: NONE, UTF8, UTF16, UTF32\n",
    "    encoding_type = enums.EncodingType.UTF8\n",
    "\n",
    "    response = client.analyze_entities(document, encoding_type=encoding_type)\n",
    "    # Loop through entitites returned from the API\n",
    "    print(response)\n",
    "    for entity in response.entities:\n",
    "        print(entity)\n",
    "        for metadata_name, metadata_value in entity.metadata.items():\n",
    "            print(u\"{}: {}\".format(metadata_name, metadata_value))\n",
    "\n"
   ]
  },
  {
   "cell_type": "code",
   "execution_count": null,
   "metadata": {},
   "outputs": [],
   "source": []
  },
  {
   "cell_type": "code",
   "execution_count": 62,
   "metadata": {},
   "outputs": [
    {
     "name": "stdout",
     "output_type": "stream",
     "text": [
      "7\n",
      "6\n",
      "12\n",
      "value: 3\n",
      "12\n",
      "value: 5\n"
     ]
    }
   ],
   "source": []
  },
  {
   "cell_type": "code",
   "execution_count": 39,
   "metadata": {},
   "outputs": [],
   "source": []
  },
  {
   "cell_type": "code",
   "execution_count": 6,
   "metadata": {},
   "outputs": [
    {
     "data": {
      "text/plain": [
       "'hi I would like to order one burger and some fries'"
      ]
     },
     "execution_count": 6,
     "metadata": {},
     "output_type": "execute_result"
    }
   ],
   "source": []
  },
  {
   "cell_type": "code",
   "execution_count": 7,
   "metadata": {},
   "outputs": [
    {
     "name": "stdout",
     "output_type": "stream",
     "text": [
      "{\n",
      "  \"_text\": \"Can i order five Burger and a fries\",\n",
      "  \"entities\": {\n",
      "    \"item\": [\n",
      "      {\n",
      "        \"confidence\": 0.84338586614972,\n",
      "        \"value\": \"burger\",\n",
      "        \"type\": \"value\"\n",
      "      },\n",
      "      {\n",
      "        \"confidence\": 1,\n",
      "        \"value\": \"fries\",\n",
      "        \"type\": \"value\"\n",
      "      }\n",
      "    ],\n",
      "    \"intent\": [\n",
      "      {\n",
      "        \"confidence\": 0.97578623795354,\n",
      "        \"value\": \"Add\"\n",
      "      }\n",
      "    ]\n",
      "  },\n",
      "  \"msg_id\": \"10V6OQixMWlxB46DA\"\n",
      "}\n",
      "None\n"
     ]
    }
   ],
   "source": [
    "client = Wit(\"QIPH5735KKLG3SRKLW6ULLPAA3FCYYIS\")\n",
    "resp = client.message('Can i order five Burger and a fries')\n",
    "print(print(json.dumps(resp, indent=2)))"
   ]
  },
  {
   "cell_type": "code",
   "execution_count": 13,
   "metadata": {},
   "outputs": [],
   "source": [
    "senten = []\n",
    "senten.append('Can i order five Burger and a fries')\n",
    "senten.append('I would like to order one large pizza and one soda')\n",
    "senten.append('Please remove the burger from my order')\n",
    "senten.append('Can you swap the burge for a cheese pizza')\n",
    "senten.append('I Would like to get a coffee too')"
   ]
  },
  {
   "cell_type": "code",
   "execution_count": 28,
   "metadata": {},
   "outputs": [
    {
     "data": {
      "text/plain": [
       "{'coffee': 5, 'tea': 5, 'burger': 10, 'sandwich': 5, 'pizza': 10, 'soda': 3}"
      ]
     },
     "execution_count": 28,
     "metadata": {},
     "output_type": "execute_result"
    }
   ],
   "source": [
    "Database = {\n",
    "    'coffee' : 5,\n",
    "    'tea' : 5,\n",
    "    'burger' : 10,\n",
    "    'sandwich' : 5,\n",
    "    'pizza' : 10,\n",
    "    'soda' : 3\n",
    "}\n",
    "Database"
   ]
  },
  {
   "cell_type": "code",
   "execution_count": 24,
   "metadata": {},
   "outputs": [],
   "source": [
    "class MakeMenu:\n",
    "    \n",
    "    def __init__(self, database):\n",
    "        self.menu = {}\n",
    "        self.WitClient = Wit(\"QIPH5735KKLG3SRKLW6ULLPAA3FCYYIS\")\n",
    "        \n",
    "    def menu(self, sentences):\n",
    "        return 0\n",
    "        \n",
    "    def getIntent(self, sentence):\n",
    "        resp = self.WitClient.message(i)        \n",
    "        return resp['entities']['intent'][0]['value']\n",
    "        "
   ]
  },
  {
   "cell_type": "code",
   "execution_count": 29,
   "metadata": {},
   "outputs": [
    {
     "data": {
      "text/plain": [
       "'Add'"
      ]
     },
     "execution_count": 29,
     "metadata": {},
     "output_type": "execute_result"
    }
   ],
   "source": [
    "b = MakeMenu(Database)\n",
    "b.getIntent(\"Can i order five Burger and a fries\")"
   ]
  },
  {
   "cell_type": "code",
   "execution_count": 14,
   "metadata": {},
   "outputs": [
    {
     "name": "stdout",
     "output_type": "stream",
     "text": [
      "{\n",
      "  \"_text\": \"Can i order five Burger and a fries\",\n",
      "  \"entities\": {\n",
      "    \"item\": [\n",
      "      {\n",
      "        \"confidence\": 0.84338586614972,\n",
      "        \"value\": \"burger\",\n",
      "        \"type\": \"value\"\n",
      "      },\n",
      "      {\n",
      "        \"confidence\": 1,\n",
      "        \"value\": \"fries\",\n",
      "        \"type\": \"value\"\n",
      "      }\n",
      "    ],\n",
      "    \"intent\": [\n",
      "      {\n",
      "        \"confidence\": 0.97578623795354,\n",
      "        \"value\": \"Add\"\n",
      "      }\n",
      "    ]\n",
      "  },\n",
      "  \"msg_id\": \"10lrNPKcBoFT2656l\"\n",
      "}\n",
      "None\n",
      "{\n",
      "  \"_text\": \"I would like to order one large pizza and one soda\",\n",
      "  \"entities\": {\n",
      "    \"item\": [\n",
      "      {\n",
      "        \"confidence\": 0.95741417860468,\n",
      "        \"value\": \"cheese pizza\",\n",
      "        \"type\": \"value\"\n",
      "      }\n",
      "    ],\n",
      "    \"intent\": [\n",
      "      {\n",
      "        \"confidence\": 0.98824902529891,\n",
      "        \"value\": \"Add\"\n",
      "      }\n",
      "    ]\n",
      "  },\n",
      "  \"msg_id\": \"1Ld4zTIphZ2WJPHrZ\"\n",
      "}\n",
      "None\n",
      "{\n",
      "  \"_text\": \"Please remove the burger from my order\",\n",
      "  \"entities\": {\n",
      "    \"item\": [\n",
      "      {\n",
      "        \"confidence\": 0.92821963652613,\n",
      "        \"value\": \"burger\",\n",
      "        \"type\": \"value\"\n",
      "      }\n",
      "    ],\n",
      "    \"intent\": [\n",
      "      {\n",
      "        \"confidence\": 0.99803860294632,\n",
      "        \"value\": \"Delete\"\n",
      "      }\n",
      "    ]\n",
      "  },\n",
      "  \"msg_id\": \"1Z6FEOHp6YfeSAZKK\"\n",
      "}\n",
      "None\n",
      "{\n",
      "  \"_text\": \"Can you swap the burge for a cheese pizza\",\n",
      "  \"entities\": {\n",
      "    \"item\": [\n",
      "      {\n",
      "        \"confidence\": 0.96751803470704,\n",
      "        \"value\": \"cheese pizza\",\n",
      "        \"type\": \"value\"\n",
      "      }\n",
      "    ],\n",
      "    \"intent\": [\n",
      "      {\n",
      "        \"confidence\": 0.98776544374856,\n",
      "        \"value\": \"Update\"\n",
      "      }\n",
      "    ]\n",
      "  },\n",
      "  \"msg_id\": \"1ypB9qkeMW9f1H9c8\"\n",
      "}\n",
      "None\n",
      "{\n",
      "  \"_text\": \"I Would like to get a coffee too\",\n",
      "  \"entities\": {\n",
      "    \"item\": [\n",
      "      {\n",
      "        \"confidence\": 0.85006783820939,\n",
      "        \"value\": \"coffee\",\n",
      "        \"type\": \"value\"\n",
      "      }\n",
      "    ],\n",
      "    \"intent\": [\n",
      "      {\n",
      "        \"confidence\": 0.9724334822043,\n",
      "        \"value\": \"Add\"\n",
      "      }\n",
      "    ]\n",
      "  },\n",
      "  \"msg_id\": \"1twS5nW901H6yNE7T\"\n",
      "}\n",
      "None\n"
     ]
    }
   ],
   "source": [
    "WitClient = Wit(\"QIPH5735KKLG3SRKLW6ULLPAA3FCYYIS\")\n",
    "for i in senten:\n",
    "    resp = WitClient.message(i)\n",
    "    print(print(json.dumps(resp, indent=2)))"
   ]
  },
  {
   "cell_type": "code",
   "execution_count": 22,
   "metadata": {},
   "outputs": [
    {
     "data": {
      "text/plain": [
       "'Add'"
      ]
     },
     "execution_count": 22,
     "metadata": {},
     "output_type": "execute_result"
    }
   ],
   "source": [
    "get"
   ]
  },
  {
   "cell_type": "code",
   "execution_count": 71,
   "metadata": {},
   "outputs": [
    {
     "ename": "ImportError",
     "evalue": "cannot import name 'language' from 'google.cloud' (unknown location)",
     "output_type": "error",
     "traceback": [
      "\u001b[1;31m---------------------------------------------------------------------------\u001b[0m",
      "\u001b[1;31mImportError\u001b[0m                               Traceback (most recent call last)",
      "\u001b[1;32m<ipython-input-71-c22ac635f054>\u001b[0m in \u001b[0;36m<module>\u001b[1;34m\u001b[0m\n\u001b[0;32m      1\u001b[0m \u001b[1;31m# Imports the Google Cloud client library\u001b[0m\u001b[1;33m\u001b[0m\u001b[1;33m\u001b[0m\u001b[1;33m\u001b[0m\u001b[0m\n\u001b[1;32m----> 2\u001b[1;33m \u001b[1;32mfrom\u001b[0m \u001b[0mgoogle\u001b[0m\u001b[1;33m.\u001b[0m\u001b[0mcloud\u001b[0m \u001b[1;32mimport\u001b[0m \u001b[0mlanguage\u001b[0m\u001b[1;33m\u001b[0m\u001b[1;33m\u001b[0m\u001b[0m\n\u001b[0m\u001b[0;32m      3\u001b[0m \u001b[1;32mfrom\u001b[0m \u001b[0mgoogle\u001b[0m\u001b[1;33m.\u001b[0m\u001b[0mcloud\u001b[0m\u001b[1;33m.\u001b[0m\u001b[0mlanguage\u001b[0m \u001b[1;32mimport\u001b[0m \u001b[0menums\u001b[0m\u001b[1;33m\u001b[0m\u001b[1;33m\u001b[0m\u001b[0m\n\u001b[0;32m      4\u001b[0m \u001b[1;32mfrom\u001b[0m \u001b[0mgoogle\u001b[0m\u001b[1;33m.\u001b[0m\u001b[0mcloud\u001b[0m\u001b[1;33m.\u001b[0m\u001b[0mlanguage\u001b[0m \u001b[1;32mimport\u001b[0m \u001b[0mtypes\u001b[0m\u001b[1;33m\u001b[0m\u001b[1;33m\u001b[0m\u001b[0m\n\u001b[0;32m      5\u001b[0m \u001b[1;33m\u001b[0m\u001b[0m\n",
      "\u001b[1;31mImportError\u001b[0m: cannot import name 'language' from 'google.cloud' (unknown location)"
     ]
    }
   ],
   "source": [
    "# Imports the Google Cloud client library\n",
    "from google.cloud import language\n",
    "from google.cloud.language import enums\n",
    "from google.cloud.language import types\n",
    "\n",
    "# Instantiates a client\n",
    "client = language.LanguageServiceClient()\n",
    "\n",
    "# The text to analyze\n",
    "text = u'Hello, world!'\n",
    "document = types.Document(\n",
    "    content=text,\n",
    "    type=enums.Document.Type.PLAIN_TEXT)\n",
    "\n",
    "# Detects the sentiment of the text\n",
    "sentiment = client.analyze_sentiment(document=document).document_sentiment\n",
    "\n",
    "print('Text: {}'.format(text))\n",
    "print('Sentiment: {}, {}'.format(sentiment.score, sentiment.magnitude))"
   ]
  },
  {
   "cell_type": "code",
   "execution_count": 23,
   "metadata": {},
   "outputs": [
    {
     "name": "stdout",
     "output_type": "stream",
     "text": [
      "Credendtials from environ: C:\\Users\\risha\\Downloads\\NLP - Food-96ceb070c2a2.json\n"
     ]
    }
   ],
   "source": [
    "print('Credendtials from environ: {}'.format(os.environ.get('GOOGLE_APPLICATION_CREDENTIALS')))"
   ]
  },
  {
   "cell_type": "code",
   "execution_count": 5,
   "metadata": {},
   "outputs": [
    {
     "name": "stderr",
     "output_type": "stream",
     "text": [
      "'cat' is not recognized as an internal or external command,\n",
      "operable program or batch file.\n"
     ]
    }
   ],
   "source": [
    "!cat rasa_dataset.json"
   ]
  }
 ],
 "metadata": {
  "kernelspec": {
   "display_name": "Python 3",
   "language": "python",
   "name": "python3"
  },
  "language_info": {
   "codemirror_mode": {
    "name": "ipython",
    "version": 3
   },
   "file_extension": ".py",
   "mimetype": "text/x-python",
   "name": "python",
   "nbconvert_exporter": "python",
   "pygments_lexer": "ipython3",
   "version": "3.7.1"
  }
 },
 "nbformat": 4,
 "nbformat_minor": 2
}
