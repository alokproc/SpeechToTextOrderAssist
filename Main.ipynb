{
 "cells": [
  {
   "cell_type": "code",
   "execution_count": 206,
   "metadata": {},
   "outputs": [
    {
     "name": "stdout",
     "output_type": "stream",
     "text": [
      "Collecting dialogflow\n",
      "  Downloading https://files.pythonhosted.org/packages/cc/db/1e71dd7c5c748b1a03e679b8890550ddeff8b21b58a76b92eb5a7beff02a/dialogflow-0.7.2-py2.py3-none-any.whl (310kB)\n",
      "Requirement already satisfied: google-api-core[grpc]<2.0.0dev,>=1.14.0 in c:\\users\\risha\\anaconda3\\lib\\site-packages (from dialogflow) (1.14.3)\n",
      "Requirement already satisfied: six>=1.10.0 in c:\\users\\risha\\anaconda3\\lib\\site-packages (from google-api-core[grpc]<2.0.0dev,>=1.14.0->dialogflow) (1.12.0)\n",
      "Requirement already satisfied: protobuf>=3.4.0 in c:\\users\\risha\\anaconda3\\lib\\site-packages (from google-api-core[grpc]<2.0.0dev,>=1.14.0->dialogflow) (3.10.0)\n",
      "Requirement already satisfied: requests<3.0.0dev,>=2.18.0 in c:\\users\\risha\\anaconda3\\lib\\site-packages (from google-api-core[grpc]<2.0.0dev,>=1.14.0->dialogflow) (2.21.0)\n",
      "Requirement already satisfied: setuptools>=34.0.0 in c:\\users\\risha\\anaconda3\\lib\\site-packages (from google-api-core[grpc]<2.0.0dev,>=1.14.0->dialogflow) (41.4.0)\n",
      "Requirement already satisfied: googleapis-common-protos<2.0dev,>=1.6.0 in c:\\users\\risha\\anaconda3\\lib\\site-packages (from google-api-core[grpc]<2.0.0dev,>=1.14.0->dialogflow) (1.6.0)\n",
      "Requirement already satisfied: google-auth<2.0dev,>=0.4.0 in c:\\users\\risha\\anaconda3\\lib\\site-packages (from google-api-core[grpc]<2.0.0dev,>=1.14.0->dialogflow) (1.6.3)\n",
      "Requirement already satisfied: pytz in c:\\users\\risha\\anaconda3\\lib\\site-packages (from google-api-core[grpc]<2.0.0dev,>=1.14.0->dialogflow) (2018.7)\n",
      "Requirement already satisfied: grpcio<2.0dev,>=1.8.2; extra == \"grpc\" in c:\\users\\risha\\anaconda3\\lib\\site-packages (from google-api-core[grpc]<2.0.0dev,>=1.14.0->dialogflow) (1.24.1)\n",
      "Requirement already satisfied: idna<2.9,>=2.5 in c:\\users\\risha\\anaconda3\\lib\\site-packages (from requests<3.0.0dev,>=2.18.0->google-api-core[grpc]<2.0.0dev,>=1.14.0->dialogflow) (2.8)\n",
      "Requirement already satisfied: chardet<3.1.0,>=3.0.2 in c:\\users\\risha\\anaconda3\\lib\\site-packages (from requests<3.0.0dev,>=2.18.0->google-api-core[grpc]<2.0.0dev,>=1.14.0->dialogflow) (3.0.4)\n",
      "Requirement already satisfied: urllib3<1.25,>=1.21.1 in c:\\users\\risha\\anaconda3\\lib\\site-packages (from requests<3.0.0dev,>=2.18.0->google-api-core[grpc]<2.0.0dev,>=1.14.0->dialogflow) (1.24.1)\n",
      "Requirement already satisfied: certifi>=2017.4.17 in c:\\users\\risha\\anaconda3\\lib\\site-packages (from requests<3.0.0dev,>=2.18.0->google-api-core[grpc]<2.0.0dev,>=1.14.0->dialogflow) (2018.11.29)\n",
      "Requirement already satisfied: pyasn1-modules>=0.2.1 in c:\\users\\risha\\anaconda3\\lib\\site-packages (from google-auth<2.0dev,>=0.4.0->google-api-core[grpc]<2.0.0dev,>=1.14.0->dialogflow) (0.2.6)\n",
      "Requirement already satisfied: cachetools>=2.0.0 in c:\\users\\risha\\anaconda3\\lib\\site-packages (from google-auth<2.0dev,>=0.4.0->google-api-core[grpc]<2.0.0dev,>=1.14.0->dialogflow) (3.1.1)\n",
      "Requirement already satisfied: rsa>=3.1.4 in c:\\users\\risha\\anaconda3\\lib\\site-packages (from google-auth<2.0dev,>=0.4.0->google-api-core[grpc]<2.0.0dev,>=1.14.0->dialogflow) (4.0)\n",
      "Requirement already satisfied: pyasn1<0.5.0,>=0.4.6 in c:\\users\\risha\\anaconda3\\lib\\site-packages (from pyasn1-modules>=0.2.1->google-auth<2.0dev,>=0.4.0->google-api-core[grpc]<2.0.0dev,>=1.14.0->dialogflow) (0.4.6)\n",
      "Installing collected packages: dialogflow\n",
      "Successfully installed dialogflow-0.7.2\n"
     ]
    }
   ],
   "source": [
    "# !pip install dialogflow"
   ]
  },
  {
   "cell_type": "code",
   "execution_count": 1,
   "metadata": {},
   "outputs": [],
   "source": [
    "# !pip install --upgrade google-cloud-speech"
   ]
  },
  {
   "cell_type": "code",
   "execution_count": 3,
   "metadata": {},
   "outputs": [],
   "source": [
    "# !pip install rasa_nlu"
   ]
  },
  {
   "cell_type": "code",
   "execution_count": 8,
   "metadata": {},
   "outputs": [],
   "source": [
    "# !pip install wit"
   ]
  },
  {
   "cell_type": "code",
   "execution_count": 70,
   "metadata": {},
   "outputs": [
    {
     "name": "stdout",
     "output_type": "stream",
     "text": [
      "Collecting google.cloud\n",
      "  Using cached https://files.pythonhosted.org/packages/ba/b1/7c54d1950e7808df06642274e677dbcedba57f75307adf2e5ad8d39e5e0e/google_cloud-0.34.0-py2.py3-none-any.whl\n",
      "Installing collected packages: google.cloud\n",
      "Successfully installed google.cloud\n"
     ]
    }
   ],
   "source": [
    "# !pip install --upgrade google.cloud"
   ]
  },
  {
   "cell_type": "code",
   "execution_count": 30,
   "metadata": {},
   "outputs": [
    {
     "name": "stdout",
     "output_type": "stream",
     "text": [
      "Collecting google-cloud-language\n",
      "  Downloading https://files.pythonhosted.org/packages/ba/b8/965a97ba60287910d342623da1da615254bded3e0965728cf7fc6339b7c8/google_cloud_language-1.3.0-py2.py3-none-any.whl (83kB)\n",
      "Requirement already satisfied, skipping upgrade: google-api-core[grpc]<2.0.0dev,>=1.14.0 in c:\\users\\risha\\anaconda3\\lib\\site-packages (from google-cloud-language) (1.14.3)\n",
      "Requirement already satisfied, skipping upgrade: pytz in c:\\users\\risha\\anaconda3\\lib\\site-packages (from google-api-core[grpc]<2.0.0dev,>=1.14.0->google-cloud-language) (2018.7)\n",
      "Requirement already satisfied, skipping upgrade: setuptools>=34.0.0 in c:\\users\\risha\\anaconda3\\lib\\site-packages (from google-api-core[grpc]<2.0.0dev,>=1.14.0->google-cloud-language) (41.4.0)\n",
      "Requirement already satisfied, skipping upgrade: protobuf>=3.4.0 in c:\\users\\risha\\anaconda3\\lib\\site-packages (from google-api-core[grpc]<2.0.0dev,>=1.14.0->google-cloud-language) (3.10.0)\n",
      "Requirement already satisfied, skipping upgrade: requests<3.0.0dev,>=2.18.0 in c:\\users\\risha\\anaconda3\\lib\\site-packages (from google-api-core[grpc]<2.0.0dev,>=1.14.0->google-cloud-language) (2.21.0)\n",
      "Requirement already satisfied, skipping upgrade: six>=1.10.0 in c:\\users\\risha\\anaconda3\\lib\\site-packages (from google-api-core[grpc]<2.0.0dev,>=1.14.0->google-cloud-language) (1.12.0)\n",
      "Requirement already satisfied, skipping upgrade: google-auth<2.0dev,>=0.4.0 in c:\\users\\risha\\anaconda3\\lib\\site-packages (from google-api-core[grpc]<2.0.0dev,>=1.14.0->google-cloud-language) (1.6.3)\n",
      "Requirement already satisfied, skipping upgrade: googleapis-common-protos<2.0dev,>=1.6.0 in c:\\users\\risha\\anaconda3\\lib\\site-packages (from google-api-core[grpc]<2.0.0dev,>=1.14.0->google-cloud-language) (1.6.0)\n",
      "Requirement already satisfied, skipping upgrade: grpcio<2.0dev,>=1.8.2; extra == \"grpc\" in c:\\users\\risha\\anaconda3\\lib\\site-packages (from google-api-core[grpc]<2.0.0dev,>=1.14.0->google-cloud-language) (1.24.1)\n",
      "Requirement already satisfied, skipping upgrade: certifi>=2017.4.17 in c:\\users\\risha\\anaconda3\\lib\\site-packages (from requests<3.0.0dev,>=2.18.0->google-api-core[grpc]<2.0.0dev,>=1.14.0->google-cloud-language) (2018.11.29)\n",
      "Requirement already satisfied, skipping upgrade: chardet<3.1.0,>=3.0.2 in c:\\users\\risha\\anaconda3\\lib\\site-packages (from requests<3.0.0dev,>=2.18.0->google-api-core[grpc]<2.0.0dev,>=1.14.0->google-cloud-language) (3.0.4)\n",
      "Requirement already satisfied, skipping upgrade: idna<2.9,>=2.5 in c:\\users\\risha\\anaconda3\\lib\\site-packages (from requests<3.0.0dev,>=2.18.0->google-api-core[grpc]<2.0.0dev,>=1.14.0->google-cloud-language) (2.8)\n",
      "Requirement already satisfied, skipping upgrade: urllib3<1.25,>=1.21.1 in c:\\users\\risha\\anaconda3\\lib\\site-packages (from requests<3.0.0dev,>=2.18.0->google-api-core[grpc]<2.0.0dev,>=1.14.0->google-cloud-language) (1.24.1)\n",
      "Requirement already satisfied, skipping upgrade: rsa>=3.1.4 in c:\\users\\risha\\anaconda3\\lib\\site-packages (from google-auth<2.0dev,>=0.4.0->google-api-core[grpc]<2.0.0dev,>=1.14.0->google-cloud-language) (4.0)\n",
      "Requirement already satisfied, skipping upgrade: pyasn1-modules>=0.2.1 in c:\\users\\risha\\anaconda3\\lib\\site-packages (from google-auth<2.0dev,>=0.4.0->google-api-core[grpc]<2.0.0dev,>=1.14.0->google-cloud-language) (0.2.6)\n",
      "Requirement already satisfied, skipping upgrade: cachetools>=2.0.0 in c:\\users\\risha\\anaconda3\\lib\\site-packages (from google-auth<2.0dev,>=0.4.0->google-api-core[grpc]<2.0.0dev,>=1.14.0->google-cloud-language) (3.1.1)\n",
      "Requirement already satisfied, skipping upgrade: pyasn1>=0.1.3 in c:\\users\\risha\\anaconda3\\lib\\site-packages (from rsa>=3.1.4->google-auth<2.0dev,>=0.4.0->google-api-core[grpc]<2.0.0dev,>=1.14.0->google-cloud-language) (0.4.6)\n",
      "Installing collected packages: google-cloud-language\n",
      "Successfully installed google-cloud-language-1.3.0\n"
     ]
    }
   ],
   "source": [
    "# !pip install --upgrade google-cloud-language"
   ]
  },
  {
   "cell_type": "code",
   "execution_count": 60,
   "metadata": {},
   "outputs": [
    {
     "name": "stdout",
     "output_type": "stream",
     "text": [
      "Collecting setuptools\n",
      "  Downloading https://files.pythonhosted.org/packages/6a/9a/50fadfd53ec909e4399b67c74cc7f4e883488035cfcdb90b685758fa8b34/setuptools-41.4.0-py2.py3-none-any.whl (580kB)\n",
      "Collecting pip\n",
      "  Downloading https://files.pythonhosted.org/packages/00/b6/9cfa56b4081ad13874b0c6f96af8ce16cfbc1cb06bedf8e9164ce5551ec1/pip-19.3.1-py2.py3-none-any.whl (1.4MB)\n",
      "Installing collected packages: setuptools, pip\n",
      "  Found existing installation: setuptools 40.6.3\n",
      "    Uninstalling setuptools-40.6.3:\n",
      "      Successfully uninstalled setuptools-40.6.3\n",
      "  Found existing installation: pip 18.1\n",
      "    Uninstalling pip-18.1:\n",
      "      Successfully uninstalled pip-18.1\n"
     ]
    },
    {
     "name": "stderr",
     "output_type": "stream",
     "text": [
      "Could not install packages due to an EnvironmentError: [WinError 5] Access is denied: 'C:\\\\Users\\\\risha\\\\AppData\\\\Local\\\\Temp\\\\pip-uninstall-f88009si\\\\users\\\\risha\\\\anaconda3\\\\scripts\\\\pip.exe'\n",
      "Consider using the `--user` option or check the permissions.\n",
      "\n"
     ]
    }
   ],
   "source": [
    "# !pip install --upgrade setuptools pip"
   ]
  },
  {
   "cell_type": "markdown",
   "metadata": {},
   "source": [
    "# Libraries"
   ]
  },
  {
   "cell_type": "code",
   "execution_count": 211,
   "metadata": {},
   "outputs": [],
   "source": [
    "import pandas as pd\n",
    "import numpy as np\n",
    "import random\n",
    "import matplotlib.pyplot as plt\n",
    "import math\n",
    "import seaborn as sns\n",
    "from sklearn.utils import shuffle\n",
    "import sklearn.linear_model as Lm\n",
    "from sklearn.linear_model import LinearRegression as Lr\n",
    "from sklearn.metrics import mean_squared_error\n",
    "from sklearn.linear_model import LogisticRegression\n",
    "from sklearn.linear_model import Perceptron\n",
    "import requests\n",
    "import io\n",
    "import os\n",
    "from google.cloud import speech\n",
    "from google.cloud.speech import enums as enums1\n",
    "from google.cloud.speech import types\n",
    "from rasa_nlu.model import Metadata, Interpreter\n",
    "from wit import Wit\n",
    "import json\n",
    "from google.cloud import language_v1\n",
    "from google.cloud.language_v1 import enums\n",
    "from nltk import tokenize\n",
    "from nltk.stem import PorterStemmer\n",
    "from string import punctuation\n",
    "import json\n",
    "from google.cloud import language_v1\n",
    "from google.cloud.language_v1 import enums\n",
    "from sklearn.metrics import precision_recall_curve\n",
    "from sklearn.metrics import precision_recall_fscore_support\n",
    "from sklearn.metrics import accuracy_score\n",
    "import dialogflow"
   ]
  },
  {
   "cell_type": "markdown",
   "metadata": {},
   "source": [
    "# Functions"
   ]
  },
  {
   "cell_type": "code",
   "execution_count": 229,
   "metadata": {},
   "outputs": [],
   "source": [
    "def detect_intent(text, session_id = \"a\"):\n",
    "    language_code = 'en'\n",
    "    project_id = 'Speech_To_Text'\n",
    "    os.environ['GOOGLE_APPLICATION_CREDENTIALS'] = \"NLP - Food-587336d8f0f0.json\"\n",
    "    session_client = dialogflow.SessionsClient()\n",
    "    session = session_client.session_path(project_id, session_id)\n",
    "    text_input = dialogflow.types.TextInput(text=text, language_code=language_code)\n",
    "    query_input = dialogflow.types.QueryInput(text=text_input)\n",
    "    response = session_client.detect_intent(session=session, query_input=query_input)\n",
    "    print('Query text: {}'.format(response.query_result.query_text))\n",
    "    print('Detected intent: {} (confidence: {})\\n'.format(\n",
    "        response.query_result.intent.display_name,\n",
    "        response.query_result.intent_detection_confidence))\n",
    "    print('Fulfillment text: {}\\n'.format(\n",
    "        response.query_result.fulfillment_text))\n",
    "    return response.query_result.fulfillment_text"
   ]
  },
  {
   "cell_type": "code",
   "execution_count": 4,
   "metadata": {},
   "outputs": [],
   "source": [
    "def getTexts(Files):\n",
    "    a = []\n",
    "    for i in Files:\n",
    "        a.append(getTextFromAudio(i))\n",
    "    return a"
   ]
  },
  {
   "cell_type": "code",
   "execution_count": 3,
   "metadata": {},
   "outputs": [],
   "source": [
    "def getTextFromAudio(filename):\n",
    "    client = speech.SpeechClient()\n",
    "\n",
    "    file_name = os.path.join('Audio Files',filename)\n",
    "\n",
    "    with io.open(file_name, 'rb') as audio_file:\n",
    "        content = audio_file.read()\n",
    "        audio = types.RecognitionAudio(content=content)\n",
    "\n",
    "    config = types.RecognitionConfig(\n",
    "        enable_automatic_punctuation = True,\n",
    "        encoding=enums1.RecognitionConfig.AudioEncoding.FLAC,\n",
    "        sample_rate_hertz=16000,\n",
    "        language_code='en-US')\n",
    "\n",
    "    response = client.recognize(config, audio)\n",
    "\n",
    "    for result in response.results:\n",
    "        return result.alternatives[0].transcript"
   ]
  },
  {
   "cell_type": "code",
   "execution_count": 4,
   "metadata": {},
   "outputs": [],
   "source": [
    "def analyze_entities(text_content):\n",
    "    client = language_v1.LanguageServiceClient()\n",
    "    type_ = enums.Document.Type.PLAIN_TEXT\n",
    "    language = \"en\"\n",
    "    document = {\"content\": text_content, \"type\": type_, \"language\": language}\n",
    "    encoding_type = enums.EncodingType.UTF8\n",
    "    response = client.analyze_entities(document, encoding_type=encoding_type)\n",
    "    words = text_content.split(\" \")\n",
    "    d = {}\n",
    "    for i in words:\n",
    "        d[i] = -1\n",
    "        \n",
    "    for entity in response.entities:\n",
    "        for mention in entity.mentions:\n",
    "            if (enums.Entity.Type(entity.type).name != \"NUMBER\"):\n",
    "                d[entity.name] = enums.EntityMention.Type(mention.type).name\n",
    "            else:\n",
    "                d[entity.name] = entity.metadata['value']\n",
    "    return d\n"
   ]
  },
  {
   "cell_type": "code",
   "execution_count": 175,
   "metadata": {},
   "outputs": [],
   "source": [
    "class MakeMenu:\n",
    "    \n",
    "    def __init__(self, database):\n",
    "        self.menu = {}\n",
    "        self.WitClient = Wit(\"QIPH5735KKLG3SRKLW6ULLPAA3FCYYIS\")\n",
    "        self.database = database\n",
    "        self.porter = PorterStemmer()\n",
    "    \n",
    "    def generateMenu(self, sentences):\n",
    "        mainMenu = {}\n",
    "        sentences = self.removePunc(sentences)\n",
    "        for i in sentences:\n",
    "            if (len(i) < 2):\n",
    "                continue\n",
    "            i = i.lower()\n",
    "            intent = self.getIntent(i)\n",
    "            oneMenu = self.generateOneMenu(i)\n",
    "            print(mainMenu)\n",
    "            if (intent == 'Add'):\n",
    "                for i in oneMenu:\n",
    "                    if (i in mainMenu):\n",
    "                        mainMenu[i] += oneMenu[i]\n",
    "                    else:\n",
    "                        mainMenu[i] = oneMenu[i]\n",
    "            elif (intent == 'Delete'):\n",
    "                for i in oneMenu:\n",
    "                    if (i in mainMenu):\n",
    "                        mainMenu[i] -= oneMenu[i]\n",
    "            \n",
    "        receipt = []\n",
    "        for i in mainMenu:\n",
    "            if i not in self.database:\n",
    "                continue\n",
    "            temp = []\n",
    "            if (mainMenu[i] > 0):\n",
    "                temp.append(i)\n",
    "                temp.append(self.database[i])\n",
    "                temp.append(mainMenu[i])                \n",
    "                temp.append(mainMenu[i]*self.database[i])\n",
    "                receipt.append(temp)\n",
    "        FinalMenu = pd.DataFrame(receipt)\n",
    "        FinalMenu.columns = ['Item', 'Price', 'Quantity', 'Amount']\n",
    "        temp = [\"\", \"Total\", FinalMenu['Quantity'].sum(), FinalMenu['Amount'].sum()]\n",
    "        FinalMenu = FinalMenu.append(pd.DataFrame([temp], columns = FinalMenu.columns),ignore_index=True)\n",
    "        return FinalMenu\n",
    "                \n",
    "        \n",
    "    def generateOneMenu(self, sentence):\n",
    "        oneMenu = {}\n",
    "        words, d = self.analyze_entities(sentence)\n",
    "        for i in range(len(words)):\n",
    "            if d[words[i]] == 'COMMON':\n",
    "                quant = 1\n",
    "                if (i != 0 and (str(d[words[i-1]]).isdigit()) and d[words[i-1]] != -1):\n",
    "                    quant = d[words[i-1]]\n",
    "                oneMenu[words[i]] = quant\n",
    "        print(d)\n",
    "        return oneMenu\n",
    "        \n",
    "        \n",
    "    def getIntent(self, sentence):\n",
    "        resp = self.WitClient.message(sentence)   \n",
    "#         print(sentence)\n",
    "        if 'intent' in resp['entities']:\n",
    "            return resp['entities']['intent'][0]['value']\n",
    "        else:\n",
    "            return \"No Intent Found\"\n",
    "    \n",
    "    def analyze_entities(self, sentence):\n",
    "        client = language_v1.LanguageServiceClient()\n",
    "        type_ = enums.Document.Type.PLAIN_TEXT\n",
    "        language = \"en\"\n",
    "        sentence = sentence.split(\" \")\n",
    "        for i in range(len(sentence)):\n",
    "            sentence[i] = sentence[i].lower()\n",
    "        sentence = \" \".join(sentence)\n",
    "        document = {\"content\": sentence, \"type\": type_, \"language\": language}\n",
    "        encoding_type = enums.EncodingType.UTF8\n",
    "        response = client.analyze_entities(document, encoding_type=encoding_type)\n",
    "        words = sentence.split(\" \")\n",
    "        for i in range(len(words)):\n",
    "            words[i] = words[i].lower()\n",
    "        d = {}\n",
    "        for i in words:\n",
    "            d[i] = -1\n",
    "\n",
    "        for entity in response.entities:\n",
    "            for mention in entity.mentions:\n",
    "                if (enums.Entity.Type(entity.type).name != \"NUMBER\"):\n",
    "                    d[entity.name.lower()] = enums.EntityMention.Type(mention.type).name\n",
    "                else:\n",
    "                    d[entity.name] = int(entity.metadata['value'])\n",
    "        return words, d\n",
    "    \n",
    "    def removePunc(self, sentences):\n",
    "        for i in range(len(sentences)):\n",
    "            a = \"\"\n",
    "            for j in sentences[i]:\n",
    "                if j in punctuation:\n",
    "                    a += \" \"\n",
    "                else:\n",
    "                    a += j\n",
    "            sentences[i] =  a\n",
    "        return sentences\n",
    "\n",
    "        "
   ]
  },
  {
   "cell_type": "markdown",
   "metadata": {},
   "source": [
    "# MAIN"
   ]
  },
  {
   "cell_type": "code",
   "execution_count": 120,
   "metadata": {},
   "outputs": [],
   "source": [
    "Database = {\n",
    "    'coffee' : 5,\n",
    "    'tea' : 5,\n",
    "    'burger' : 10,\n",
    "    'sandwich' : 5,\n",
    "    'pizza' : 10,\n",
    "    'soda' : 3,\n",
    "    'fries' : 4.5,\n",
    "    'coke' : 3,\n",
    "    'burritos' : 10,\n",
    "    'nachos' : 5,\n",
    "    'quesadilla' : 6.5\n",
    "}"
   ]
  },
  {
   "cell_type": "code",
   "execution_count": 10,
   "metadata": {},
   "outputs": [],
   "source": [
    "senten = []\n",
    "senten.append('Can i order five Burger and fries')\n",
    "senten.append('I would like to order one large pizza and one soda')\n",
    "senten.append('Please remove the burger from my order')\n",
    "senten.append('I Would like to get a coffee too')\n",
    "senten.append('hi I would like to order one cheese burger and 5 fries and 3 coke and 7 sandwich')\n",
    "senten.append('Remove one coke too')"
   ]
  },
  {
   "cell_type": "code",
   "execution_count": 65,
   "metadata": {},
   "outputs": [],
   "source": [
    "senten2 = []\n",
    "senten2.append('Can i get two burritos and nachos on side')\n",
    "senten2.append('Add 3 Quesadilla')\n",
    "senten2.append('Remove 1 burritos')\n",
    "senten2.append('Can i also get three coke')"
   ]
  },
  {
   "cell_type": "code",
   "execution_count": 107,
   "metadata": {},
   "outputs": [],
   "source": [
    "Files = []\n",
    "for i in range(6):\n",
    "    Files.append(\"Main_\"+str(i+1)+\".flac\")\n",
    "audioText = getTexts(Files)"
   ]
  },
  {
   "cell_type": "code",
   "execution_count": 105,
   "metadata": {},
   "outputs": [
    {
     "name": "stdout",
     "output_type": "stream",
     "text": [
      "can i order five burger and fries\n",
      "{'can': -1, 'i': -1, 'order': -1, 'five': 5, 'burger': 'COMMON', 'and': -1, 'fries': 'COMMON'}\n",
      "{}\n",
      "i would like to order one large pizza and one soda\n",
      "{'i': -1, 'would': -1, 'like': -1, 'to': -1, 'order': -1, 'one': 1, 'large': -1, 'pizza': 'COMMON', 'and': -1, 'soda': 'COMMON'}\n",
      "{'burger': 5, 'fries': 1}\n",
      "please remove the burger from my order\n",
      "{'please': -1, 'remove': -1, 'the': -1, 'burger': 'COMMON', 'from': -1, 'my': -1, 'order': 'COMMON'}\n",
      "{'burger': 5, 'fries': 1, 'pizza': 1, 'soda': 1}\n",
      "i would like to get a coffee too\n",
      "{'i': -1, 'would': -1, 'like': -1, 'to': -1, 'get': -1, 'a': -1, 'coffee': 'COMMON', 'too': -1}\n",
      "{'burger': 4, 'fries': 1, 'pizza': 1, 'soda': 1}\n",
      "hi i would like to order one cheese burger and 5 fries and 3 coke and 7 sandwich\n",
      "{'hi': -1, 'i': -1, 'would': -1, 'like': -1, 'to': -1, 'order': -1, 'one': 1, 'cheese': -1, 'burger': -1, 'and': -1, '5': 5, 'fries': 'COMMON', '3': 3, 'coke': 'COMMON', '7': 7, 'sandwich': 'COMMON', 'cheese burger': 'COMMON'}\n",
      "{'burger': 4, 'fries': 1, 'pizza': 1, 'soda': 1, 'coffee': 1}\n",
      "remove one coke too\n",
      "{'remove': -1, 'one': 1, 'coke': 'COMMON', 'too': -1}\n",
      "{'burger': 4, 'fries': 6, 'pizza': 1, 'soda': 1, 'coffee': 1, 'coke': 3, 'sandwich': 7}\n"
     ]
    },
    {
     "data": {
      "text/html": [
       "<div>\n",
       "<style scoped>\n",
       "    .dataframe tbody tr th:only-of-type {\n",
       "        vertical-align: middle;\n",
       "    }\n",
       "\n",
       "    .dataframe tbody tr th {\n",
       "        vertical-align: top;\n",
       "    }\n",
       "\n",
       "    .dataframe thead th {\n",
       "        text-align: right;\n",
       "    }\n",
       "</style>\n",
       "<table border=\"1\" class=\"dataframe\">\n",
       "  <thead>\n",
       "    <tr style=\"text-align: right;\">\n",
       "      <th></th>\n",
       "      <th>Item</th>\n",
       "      <th>Price</th>\n",
       "      <th>Quantity</th>\n",
       "      <th>Amount</th>\n",
       "    </tr>\n",
       "  </thead>\n",
       "  <tbody>\n",
       "    <tr>\n",
       "      <th>0</th>\n",
       "      <td>burger</td>\n",
       "      <td>10</td>\n",
       "      <td>4</td>\n",
       "      <td>40.0</td>\n",
       "    </tr>\n",
       "    <tr>\n",
       "      <th>1</th>\n",
       "      <td>fries</td>\n",
       "      <td>4.5</td>\n",
       "      <td>6</td>\n",
       "      <td>27.0</td>\n",
       "    </tr>\n",
       "    <tr>\n",
       "      <th>2</th>\n",
       "      <td>pizza</td>\n",
       "      <td>10</td>\n",
       "      <td>1</td>\n",
       "      <td>10.0</td>\n",
       "    </tr>\n",
       "    <tr>\n",
       "      <th>3</th>\n",
       "      <td>soda</td>\n",
       "      <td>3</td>\n",
       "      <td>1</td>\n",
       "      <td>3.0</td>\n",
       "    </tr>\n",
       "    <tr>\n",
       "      <th>4</th>\n",
       "      <td>coffee</td>\n",
       "      <td>5</td>\n",
       "      <td>1</td>\n",
       "      <td>5.0</td>\n",
       "    </tr>\n",
       "    <tr>\n",
       "      <th>5</th>\n",
       "      <td>coke</td>\n",
       "      <td>3</td>\n",
       "      <td>2</td>\n",
       "      <td>6.0</td>\n",
       "    </tr>\n",
       "    <tr>\n",
       "      <th>6</th>\n",
       "      <td>sandwich</td>\n",
       "      <td>5</td>\n",
       "      <td>7</td>\n",
       "      <td>35.0</td>\n",
       "    </tr>\n",
       "    <tr>\n",
       "      <th>7</th>\n",
       "      <td></td>\n",
       "      <td>Total</td>\n",
       "      <td>22</td>\n",
       "      <td>126.0</td>\n",
       "    </tr>\n",
       "  </tbody>\n",
       "</table>\n",
       "</div>"
      ],
      "text/plain": [
       "       Item  Price  Quantity  Amount\n",
       "0    burger     10         4    40.0\n",
       "1     fries    4.5         6    27.0\n",
       "2     pizza     10         1    10.0\n",
       "3      soda      3         1     3.0\n",
       "4    coffee      5         1     5.0\n",
       "5      coke      3         2     6.0\n",
       "6  sandwich      5         7    35.0\n",
       "7            Total        22   126.0"
      ]
     },
     "execution_count": 105,
     "metadata": {},
     "output_type": "execute_result"
    }
   ],
   "source": [
    "a = MakeMenu(Database)\n",
    "menu = a.generateMenu(senten)\n",
    "menu"
   ]
  },
  {
   "cell_type": "code",
   "execution_count": 108,
   "metadata": {},
   "outputs": [
    {
     "name": "stdout",
     "output_type": "stream",
     "text": [
      "hi  can i order one burger and fries \n",
      "{'hi': -1, '': -1, 'can': -1, 'i': -1, 'order': -1, 'one': 1, 'burger': 'COMMON', 'and': -1, 'fries': 'COMMON'}\n",
      "{}\n",
      "i would like to order one large pizza and one soda \n",
      "{'i': -1, 'would': -1, 'like': -1, 'to': -1, 'order': -1, 'one': 1, 'large': -1, 'pizza': 'COMMON', 'and': -1, 'soda': 'COMMON', '': -1}\n",
      "{'burger': 1, 'fries': 1}\n",
      "please remove the burger from my order \n",
      "{'please': -1, 'remove': -1, 'the': -1, 'burger': 'COMMON', 'from': -1, 'my': -1, 'order': 'COMMON', '': -1}\n",
      "{'burger': 1, 'fries': 1, 'pizza': 1, 'soda': 1}\n",
      "i would like to get a coffee  too \n",
      "{'i': -1, 'would': -1, 'like': -1, 'to': -1, 'get': -1, 'a': -1, 'coffee': 'COMMON', '': -1, 'too': -1}\n",
      "{'burger': 0, 'fries': 1, 'pizza': 1, 'soda': 1}\n",
      "hi  i would like to order one cheeseburger and five fries and three coke and 7 sandwich \n",
      "{'hi': -1, '': -1, 'i': -1, 'would': -1, 'like': -1, 'to': -1, 'order': -1, 'one': 1, 'cheeseburger': 'COMMON', 'and': -1, 'five': 5, 'fries': 'COMMON', 'three': 3, 'coke': 'COMMON', '7': 7, 'sandwich': 'COMMON'}\n",
      "{'burger': 0, 'fries': 1, 'pizza': 1, 'soda': 1, 'coffee': 1}\n",
      "remove one cup two\n",
      "{'remove': -1, 'one': 1, 'cup': 'COMMON', 'two': 2}\n",
      "{'burger': 0, 'fries': 6, 'pizza': 1, 'soda': 1, 'coffee': 1, 'cheeseburger': 1, 'coke': 3, 'sandwich': 7}\n"
     ]
    },
    {
     "data": {
      "text/html": [
       "<div>\n",
       "<style scoped>\n",
       "    .dataframe tbody tr th:only-of-type {\n",
       "        vertical-align: middle;\n",
       "    }\n",
       "\n",
       "    .dataframe tbody tr th {\n",
       "        vertical-align: top;\n",
       "    }\n",
       "\n",
       "    .dataframe thead th {\n",
       "        text-align: right;\n",
       "    }\n",
       "</style>\n",
       "<table border=\"1\" class=\"dataframe\">\n",
       "  <thead>\n",
       "    <tr style=\"text-align: right;\">\n",
       "      <th></th>\n",
       "      <th>Item</th>\n",
       "      <th>Price</th>\n",
       "      <th>Quantity</th>\n",
       "      <th>Amount</th>\n",
       "    </tr>\n",
       "  </thead>\n",
       "  <tbody>\n",
       "    <tr>\n",
       "      <th>0</th>\n",
       "      <td>fries</td>\n",
       "      <td>4.5</td>\n",
       "      <td>6</td>\n",
       "      <td>27.0</td>\n",
       "    </tr>\n",
       "    <tr>\n",
       "      <th>1</th>\n",
       "      <td>pizza</td>\n",
       "      <td>10</td>\n",
       "      <td>1</td>\n",
       "      <td>10.0</td>\n",
       "    </tr>\n",
       "    <tr>\n",
       "      <th>2</th>\n",
       "      <td>soda</td>\n",
       "      <td>3</td>\n",
       "      <td>1</td>\n",
       "      <td>3.0</td>\n",
       "    </tr>\n",
       "    <tr>\n",
       "      <th>3</th>\n",
       "      <td>coffee</td>\n",
       "      <td>5</td>\n",
       "      <td>1</td>\n",
       "      <td>5.0</td>\n",
       "    </tr>\n",
       "    <tr>\n",
       "      <th>4</th>\n",
       "      <td>coke</td>\n",
       "      <td>3</td>\n",
       "      <td>3</td>\n",
       "      <td>9.0</td>\n",
       "    </tr>\n",
       "    <tr>\n",
       "      <th>5</th>\n",
       "      <td>sandwich</td>\n",
       "      <td>5</td>\n",
       "      <td>7</td>\n",
       "      <td>35.0</td>\n",
       "    </tr>\n",
       "    <tr>\n",
       "      <th>6</th>\n",
       "      <td></td>\n",
       "      <td>Total</td>\n",
       "      <td>19</td>\n",
       "      <td>89.0</td>\n",
       "    </tr>\n",
       "  </tbody>\n",
       "</table>\n",
       "</div>"
      ],
      "text/plain": [
       "       Item  Price  Quantity  Amount\n",
       "0     fries    4.5         6    27.0\n",
       "1     pizza     10         1    10.0\n",
       "2      soda      3         1     3.0\n",
       "3    coffee      5         1     5.0\n",
       "4      coke      3         3     9.0\n",
       "5  sandwich      5         7    35.0\n",
       "6            Total        19    89.0"
      ]
     },
     "execution_count": 108,
     "metadata": {},
     "output_type": "execute_result"
    }
   ],
   "source": [
    "a = MakeMenu(Database)\n",
    "menu = a.generateMenu(audioText)\n",
    "menu"
   ]
  },
  {
   "cell_type": "code",
   "execution_count": 241,
   "metadata": {},
   "outputs": [
    {
     "name": "stdout",
     "output_type": "stream",
     "text": [
      "{'can': -1, 'i': -1, 'get': -1, 'two': 2, 'burritos': 'COMMON', 'and': -1, 'nachos': 'COMMON', 'on': -1, 'side': 'COMMON'}\n",
      "{}\n",
      "{'add': -1, '3': 3, 'quesadilla': 'COMMON'}\n",
      "{'burritos': 2, 'nachos': 1, 'side': 1}\n",
      "{'remove': -1, '1': 1, 'burritos': 'COMMON'}\n",
      "{'burritos': 2, 'nachos': 1, 'side': 1, 'quesadilla': 3}\n",
      "{'can': -1, 'i': -1, 'also': -1, 'get': -1, 'three': 3, 'coke': 'COMMON'}\n",
      "{'burritos': 1, 'nachos': 1, 'side': 1, 'quesadilla': 3}\n"
     ]
    },
    {
     "data": {
      "text/html": [
       "<div>\n",
       "<style scoped>\n",
       "    .dataframe tbody tr th:only-of-type {\n",
       "        vertical-align: middle;\n",
       "    }\n",
       "\n",
       "    .dataframe tbody tr th {\n",
       "        vertical-align: top;\n",
       "    }\n",
       "\n",
       "    .dataframe thead th {\n",
       "        text-align: right;\n",
       "    }\n",
       "</style>\n",
       "<table border=\"1\" class=\"dataframe\">\n",
       "  <thead>\n",
       "    <tr style=\"text-align: right;\">\n",
       "      <th></th>\n",
       "      <th>Item</th>\n",
       "      <th>Price</th>\n",
       "      <th>Quantity</th>\n",
       "      <th>Amount</th>\n",
       "    </tr>\n",
       "  </thead>\n",
       "  <tbody>\n",
       "    <tr>\n",
       "      <th>0</th>\n",
       "      <td>burritos</td>\n",
       "      <td>10</td>\n",
       "      <td>1</td>\n",
       "      <td>10.0</td>\n",
       "    </tr>\n",
       "    <tr>\n",
       "      <th>1</th>\n",
       "      <td>nachos</td>\n",
       "      <td>5</td>\n",
       "      <td>1</td>\n",
       "      <td>5.0</td>\n",
       "    </tr>\n",
       "    <tr>\n",
       "      <th>2</th>\n",
       "      <td>quesadilla</td>\n",
       "      <td>6.5</td>\n",
       "      <td>3</td>\n",
       "      <td>19.5</td>\n",
       "    </tr>\n",
       "    <tr>\n",
       "      <th>3</th>\n",
       "      <td>coke</td>\n",
       "      <td>3</td>\n",
       "      <td>3</td>\n",
       "      <td>9.0</td>\n",
       "    </tr>\n",
       "    <tr>\n",
       "      <th>4</th>\n",
       "      <td></td>\n",
       "      <td>Total</td>\n",
       "      <td>8</td>\n",
       "      <td>43.5</td>\n",
       "    </tr>\n",
       "  </tbody>\n",
       "</table>\n",
       "</div>"
      ],
      "text/plain": [
       "         Item  Price  Quantity  Amount\n",
       "0    burritos     10         1    10.0\n",
       "1      nachos      5         1     5.0\n",
       "2  quesadilla    6.5         3    19.5\n",
       "3        coke      3         3     9.0\n",
       "4              Total         8    43.5"
      ]
     },
     "execution_count": 241,
     "metadata": {},
     "output_type": "execute_result"
    }
   ],
   "source": [
    "b = MakeMenu(Database)\n",
    "menu = b.generateMenu(senten2)\n",
    "menu"
   ]
  },
  {
   "cell_type": "markdown",
   "metadata": {},
   "source": [
    "# Reading Json"
   ]
  },
  {
   "cell_type": "code",
   "execution_count": 29,
   "metadata": {},
   "outputs": [],
   "source": [
    "with open('Taskmaster/TM-1-2019/self-dialogs.json') as json_file:\n",
    "    data = json.load(json_file)"
   ]
  },
  {
   "cell_type": "code",
   "execution_count": 35,
   "metadata": {},
   "outputs": [],
   "source": [
    "pizza = []\n",
    "coffee = []\n",
    "for i in range(len(data)):\n",
    "    if 'coffee' in data[i]['instruction_id']:\n",
    "        coffee.append(i)\n",
    "    if 'pizza' in data[i]['instruction_id']:\n",
    "        pizza.append(i)"
   ]
  },
  {
   "cell_type": "code",
   "execution_count": 53,
   "metadata": {},
   "outputs": [],
   "source": [
    "coffeel = []\n",
    "for i in coffee:\n",
    "    for j in data[i]['utterances']:\n",
    "        coffeel.append(j['text'])\n",
    "pizzal = []\n",
    "for i in pizza:\n",
    "    for j in data[i]['utterances']:\n",
    "        pizzal.append(j['text'])"
   ]
  },
  {
   "cell_type": "code",
   "execution_count": 59,
   "metadata": {},
   "outputs": [],
   "source": [
    "pd.DataFrame(coffeel).to_excel(\"coffee.xlsx\")\n",
    "pd.DataFrame(pizzal).to_excel(\"coffee.xlsx\")"
   ]
  },
  {
   "cell_type": "code",
   "execution_count": 200,
   "metadata": {},
   "outputs": [],
   "source": [
    "with open('Label/expressions-1.json') as json_file:\n",
    "    main = json.load(json_file)"
   ]
  },
  {
   "cell_type": "code",
   "execution_count": 205,
   "metadata": {},
   "outputs": [
    {
     "name": "stdout",
     "output_type": "stream",
     "text": [
      "Please order me a burger and some fries \"Add\"\n",
      "Modify my order please \"Update\"\n",
      "Remove the burger from my order \"Delete\"\n",
      "Change my burger for a pizza \"Update\"\n",
      "I want to order 5 cheese burgers and 1 pizza \"Add\"\n",
      "remove 5 burgers \"Delete\"\n",
      "add 4 burgers and remove my pizza from the order \"Delete\"\n",
      "Hi, can i order 5 fries and a coke please \"Add\"\n",
      "Hello, i would like to order 5 pizzas  \"Add\"\n",
      "please remove the 2 pizza from my previous order \"Delete\"\n",
      "hello, can you get me a coffee, and 2 ice coffees \"Add\"\n",
      "can i order 5 coffees \"Add\"\n",
      "Please remove the burger from my order \"Delete\"\n",
      "Can you swap the burger for a cheese pizza \"Update\"\n",
      "Please remove the burger from my order  \"Delete\"\n",
      "Add 3 Quesadilla \"Add\"\n",
      "Add 3 Quesadilla    \"Add\"\n",
      "Can i get a sandwich \"Add\"\n",
      "Please cancel my last order which was a burger \"burger\"\n",
      "I want a pizza \"pizza\"\n"
     ]
    }
   ],
   "source": [
    "for i in main['data']:\n",
    "    print(i['text'], i['entities'][0]['value'])"
   ]
  },
  {
   "cell_type": "markdown",
   "metadata": {},
   "source": [
    "# Reading Intents"
   ]
  },
  {
   "cell_type": "code",
   "execution_count": 130,
   "metadata": {},
   "outputs": [],
   "source": [
    "pizzaI = pd.read_excel(\"LabelledTaskMaster/pizzaLabelled.xlsx\")\n",
    "coffeeI = pd.read_excel(\"LabelledTaskMaster/coffeeLabelled.xlsx\")"
   ]
  },
  {
   "cell_type": "code",
   "execution_count": 150,
   "metadata": {},
   "outputs": [],
   "source": [
    "pizzaI.loc[pizzaI['Intent'] == 'add', 'Intent'] = 'Add'\n",
    "pizzaI.loc[pizzaI['Intent'] == 'delete', 'Intent'] = 'Delete'\n",
    "pizzaI.loc[pizzaI['Intent'] == 'modify', 'Intent'] = 'Update'\n",
    "coffeeI.loc[coffeeI['Intent'] == 'add', 'Intent'] = 'Add'\n",
    "coffeeI.loc[coffeeI['Intent'] == 'delete', 'Intent'] = 'Delete'\n",
    "coffeeI.loc[coffeeI['Intent'] == 'modify', 'Intent'] = 'Update'"
   ]
  },
  {
   "cell_type": "code",
   "execution_count": 152,
   "metadata": {},
   "outputs": [
    {
     "data": {
      "text/plain": [
       "array(['Add', 'Delete', 'Update'], dtype=object)"
      ]
     },
     "execution_count": 152,
     "metadata": {},
     "output_type": "execute_result"
    }
   ],
   "source": [
    "coffeeI['Intent'].unique()"
   ]
  },
  {
   "cell_type": "code",
   "execution_count": 123,
   "metadata": {},
   "outputs": [],
   "source": [
    "readintent = MakeMenu(Database)"
   ]
  },
  {
   "cell_type": "code",
   "execution_count": 157,
   "metadata": {},
   "outputs": [
    {
     "name": "stdout",
     "output_type": "stream",
     "text": [
      "I want to order a pizza from Bertuccis in Chelmsford, MA\n"
     ]
    },
    {
     "data": {
      "text/plain": [
       "'Add'"
      ]
     },
     "execution_count": 157,
     "metadata": {},
     "output_type": "execute_result"
    }
   ],
   "source": [
    "readintent.getIntent(pizzaI['Statements'][0])"
   ]
  },
  {
   "cell_type": "code",
   "execution_count": 234,
   "metadata": {},
   "outputs": [],
   "source": [
    "def getEval(df):\n",
    "    ipred = []\n",
    "    ireal = np.array(df['Intent'])\n",
    "    readintent = MakeMenu(Database)\n",
    "    for i in df['Statements']:\n",
    "        ipred.append(readintent.getIntent(i))\n",
    "    z = precision_recall_fscore_support(ireal, ipred, average=None, labels=['Add', 'Delete', 'Update'])\n",
    "    return z, ipred, ireal"
   ]
  },
  {
   "cell_type": "code",
   "execution_count": 189,
   "metadata": {},
   "outputs": [
    {
     "name": "stderr",
     "output_type": "stream",
     "text": [
      "C:\\Users\\risha\\Anaconda3\\lib\\site-packages\\sklearn\\metrics\\classification.py:1143: UndefinedMetricWarning: Precision and F-score are ill-defined and being set to 0.0 in labels with no predicted samples.\n",
      "  'precision', 'predicted', average, warn_for)\n",
      "C:\\Users\\risha\\Anaconda3\\lib\\site-packages\\sklearn\\metrics\\classification.py:1145: UndefinedMetricWarning: Recall and F-score are ill-defined and being set to 0.0 in labels with no true samples.\n",
      "  'recall', 'true', average, warn_for)\n"
     ]
    }
   ],
   "source": [
    "a, b, c = getEval(coffeeI)"
   ]
  },
  {
   "cell_type": "code",
   "execution_count": 178,
   "metadata": {},
   "outputs": [],
   "source": [
    "d, e, f = getEval(pizzaI)"
   ]
  },
  {
   "cell_type": "code",
   "execution_count": 239,
   "metadata": {},
   "outputs": [
    {
     "data": {
      "text/plain": [
       "0.8038277511961722"
      ]
     },
     "execution_count": 239,
     "metadata": {},
     "output_type": "execute_result"
    }
   ],
   "source": [
    "accuracy_score(b, c)"
   ]
  },
  {
   "cell_type": "code",
   "execution_count": 237,
   "metadata": {},
   "outputs": [],
   "source": [
    "a, b, c = getEval(coffeeI.append(pizzaI))"
   ]
  },
  {
   "cell_type": "code",
   "execution_count": 240,
   "metadata": {},
   "outputs": [
    {
     "data": {
      "text/plain": [
       "(array([0.86910995, 0.5       , 0.        ]),\n",
       " array([0.94318182, 0.09090909, 0.        ]),\n",
       " array([0.90463215, 0.15384615, 0.        ]),\n",
       " array([176,  22,  11], dtype=int64))"
      ]
     },
     "execution_count": 240,
     "metadata": {},
     "output_type": "execute_result"
    }
   ],
   "source": [
    "a"
   ]
  },
  {
   "cell_type": "code",
   "execution_count": 238,
   "metadata": {},
   "outputs": [
    {
     "name": "stderr",
     "output_type": "stream",
     "text": [
      "C:\\Users\\risha\\Anaconda3\\lib\\site-packages\\sklearn\\metrics\\classification.py:1143: UndefinedMetricWarning: Precision and F-score are ill-defined and being set to 0.0 in labels with no predicted samples.\n",
      "  'precision', 'predicted', average, warn_for)\n"
     ]
    },
    {
     "data": {
      "text/plain": [
       "(0.8636907351022184, 0.8038277511961722, 0.8296656734918602, None)"
      ]
     },
     "execution_count": 238,
     "metadata": {},
     "output_type": "execute_result"
    }
   ],
   "source": [
    "precision_recall_fscore_support(b, c, average='weighted')"
   ]
  },
  {
   "cell_type": "code",
   "execution_count": 214,
   "metadata": {},
   "outputs": [
    {
     "data": {
      "text/plain": [
       "0.8038277511961722"
      ]
     },
     "execution_count": 214,
     "metadata": {},
     "output_type": "execute_result"
    }
   ],
   "source": [
    "accuracy_score(b, c)"
   ]
  }
 ],
 "metadata": {
  "kernelspec": {
   "display_name": "Python 3",
   "language": "python",
   "name": "python3"
  },
  "language_info": {
   "codemirror_mode": {
    "name": "ipython",
    "version": 3
   },
   "file_extension": ".py",
   "mimetype": "text/x-python",
   "name": "python",
   "nbconvert_exporter": "python",
   "pygments_lexer": "ipython3",
   "version": "3.7.1"
  }
 },
 "nbformat": 4,
 "nbformat_minor": 2
}
